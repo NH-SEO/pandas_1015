{
 "cells": [
  {
   "cell_type": "code",
   "execution_count": 1,
   "id": "f240a32b",
   "metadata": {},
   "outputs": [],
   "source": [
    "import warnings\n",
    "warnings.filterwarnings('ignore')\n",
    "\n",
    "import pandas as pd\n",
    "import numpy as np"
   ]
  },
  {
   "cell_type": "code",
   "execution_count": 2,
   "id": "d34cf46c",
   "metadata": {},
   "outputs": [],
   "source": [
    "df = pd.read_csv('dataset/indian_food2.csv')"
   ]
  },
  {
   "cell_type": "code",
   "execution_count": 5,
   "id": "0d171061",
   "metadata": {},
   "outputs": [
    {
     "data": {
      "text/plain": [
       "(255, 10)"
      ]
     },
     "execution_count": 5,
     "metadata": {},
     "output_type": "execute_result"
    }
   ],
   "source": [
    "df.shape"
   ]
  },
  {
   "cell_type": "code",
   "execution_count": 6,
   "id": "428e08e4",
   "metadata": {},
   "outputs": [],
   "source": [
    "df = df.replace({'nan': np.nan, ' ': np.nan, '': np.nan})"
   ]
  },
  {
   "cell_type": "markdown",
   "id": "1a3a6168",
   "metadata": {},
   "source": [
    "# 전처리"
   ]
  },
  {
   "cell_type": "markdown",
   "id": "234a7ed3",
   "metadata": {},
   "source": [
    "## 1-1"
   ]
  },
  {
   "cell_type": "code",
   "execution_count": 8,
   "id": "75a3ce26",
   "metadata": {},
   "outputs": [],
   "source": [
    "df = df.drop(columns=['state'])"
   ]
  },
  {
   "cell_type": "code",
   "execution_count": 9,
   "id": "0ed5f0c6",
   "metadata": {},
   "outputs": [
    {
     "data": {
      "text/html": [
       "<div>\n",
       "<style scoped>\n",
       "    .dataframe tbody tr th:only-of-type {\n",
       "        vertical-align: middle;\n",
       "    }\n",
       "\n",
       "    .dataframe tbody tr th {\n",
       "        vertical-align: top;\n",
       "    }\n",
       "\n",
       "    .dataframe thead th {\n",
       "        text-align: right;\n",
       "    }\n",
       "</style>\n",
       "<table border=\"1\" class=\"dataframe\">\n",
       "  <thead>\n",
       "    <tr style=\"text-align: right;\">\n",
       "      <th></th>\n",
       "      <th>id</th>\n",
       "      <th>name</th>\n",
       "      <th>ingredients</th>\n",
       "      <th>diet</th>\n",
       "      <th>prep_time</th>\n",
       "      <th>cook_time</th>\n",
       "      <th>flavor_profile</th>\n",
       "      <th>course</th>\n",
       "      <th>region</th>\n",
       "    </tr>\n",
       "  </thead>\n",
       "  <tbody>\n",
       "    <tr>\n",
       "      <td>0</td>\n",
       "      <td>1</td>\n",
       "      <td>Balu shahi</td>\n",
       "      <td>Maida flour, yogurt, oil, sugar</td>\n",
       "      <td>vegetarian</td>\n",
       "      <td>45</td>\n",
       "      <td>25</td>\n",
       "      <td>sweet</td>\n",
       "      <td>dessert</td>\n",
       "      <td>East</td>\n",
       "    </tr>\n",
       "  </tbody>\n",
       "</table>\n",
       "</div>"
      ],
      "text/plain": [
       "   id        name                      ingredients        diet  prep_time  \\\n",
       "0   1  Balu shahi  Maida flour, yogurt, oil, sugar  vegetarian         45   \n",
       "\n",
       "   cook_time flavor_profile   course region  \n",
       "0         25          sweet  dessert   East  "
      ]
     },
     "execution_count": 9,
     "metadata": {},
     "output_type": "execute_result"
    }
   ],
   "source": [
    "df.head(1)"
   ]
  },
  {
   "cell_type": "markdown",
   "id": "f7ad9334",
   "metadata": {},
   "source": [
    "## 1-2"
   ]
  },
  {
   "cell_type": "code",
   "execution_count": 11,
   "id": "08191858",
   "metadata": {},
   "outputs": [],
   "source": [
    "df = df[(df['cook_time'] > 0) & (df['prep_time'] > 0)]"
   ]
  },
  {
   "cell_type": "markdown",
   "id": "095f41d7",
   "metadata": {},
   "source": [
    "## 1-3"
   ]
  },
  {
   "cell_type": "code",
   "execution_count": 13,
   "id": "0ff11623",
   "metadata": {},
   "outputs": [],
   "source": [
    "df = df[~df['region'].isin(['-1', ''])]"
   ]
  },
  {
   "cell_type": "code",
   "execution_count": 15,
   "id": "ecde9fe8",
   "metadata": {},
   "outputs": [],
   "source": [
    "df['region'] = df['region'].replace({'North East': 'North'})"
   ]
  },
  {
   "cell_type": "code",
   "execution_count": 17,
   "id": "2e067bbc",
   "metadata": {},
   "outputs": [],
   "source": [
    "# df = df[~df['region'].isna()]\n",
    "df = df.dropna(subset=['region'])"
   ]
  },
  {
   "cell_type": "code",
   "execution_count": 18,
   "id": "dfa4a30e",
   "metadata": {},
   "outputs": [
    {
     "data": {
      "text/plain": [
       "id                0\n",
       "name              0\n",
       "ingredients       0\n",
       "diet              0\n",
       "prep_time         0\n",
       "cook_time         0\n",
       "flavor_profile    0\n",
       "course            0\n",
       "region            0\n",
       "dtype: int64"
      ]
     },
     "execution_count": 18,
     "metadata": {},
     "output_type": "execute_result"
    }
   ],
   "source": [
    "df.isna().sum()"
   ]
  },
  {
   "cell_type": "markdown",
   "id": "b3ea4363",
   "metadata": {},
   "source": [
    "## 1-4\n",
    "np.where(조건~, True, False)"
   ]
  },
  {
   "cell_type": "code",
   "execution_count": 19,
   "id": "12bd6dce",
   "metadata": {},
   "outputs": [],
   "source": [
    "df.loc[df['flavor_profile'] == 'sweet', 'ed_flavor_profile'] = 'sweet'\n",
    "df.loc[df['flavor_profile'] != 'sweet', 'ed_flavor_profile'] = 'not sweet'"
   ]
  },
  {
   "cell_type": "code",
   "execution_count": 24,
   "id": "f9fc981d",
   "metadata": {},
   "outputs": [],
   "source": [
    "df['ed_flavor_profile2'] = np.where(df['flavor_profile'] == 'sweet',\\\n",
    "                                    'sweet',\\\n",
    "                                    'not sweet')"
   ]
  },
  {
   "cell_type": "code",
   "execution_count": 26,
   "id": "348ff206",
   "metadata": {},
   "outputs": [
    {
     "data": {
      "text/html": [
       "<div>\n",
       "<style scoped>\n",
       "    .dataframe tbody tr th:only-of-type {\n",
       "        vertical-align: middle;\n",
       "    }\n",
       "\n",
       "    .dataframe tbody tr th {\n",
       "        vertical-align: top;\n",
       "    }\n",
       "\n",
       "    .dataframe thead th {\n",
       "        text-align: right;\n",
       "    }\n",
       "</style>\n",
       "<table border=\"1\" class=\"dataframe\">\n",
       "  <thead>\n",
       "    <tr style=\"text-align: right;\">\n",
       "      <th></th>\n",
       "      <th>ed_flavor_profile</th>\n",
       "      <th>ed_flavor_profile2</th>\n",
       "    </tr>\n",
       "  </thead>\n",
       "  <tbody>\n",
       "    <tr>\n",
       "      <td>0</td>\n",
       "      <td>sweet</td>\n",
       "      <td>sweet</td>\n",
       "    </tr>\n",
       "    <tr>\n",
       "      <td>1</td>\n",
       "      <td>sweet</td>\n",
       "      <td>sweet</td>\n",
       "    </tr>\n",
       "    <tr>\n",
       "      <td>2</td>\n",
       "      <td>sweet</td>\n",
       "      <td>sweet</td>\n",
       "    </tr>\n",
       "    <tr>\n",
       "      <td>3</td>\n",
       "      <td>sweet</td>\n",
       "      <td>sweet</td>\n",
       "    </tr>\n",
       "    <tr>\n",
       "      <td>4</td>\n",
       "      <td>sweet</td>\n",
       "      <td>sweet</td>\n",
       "    </tr>\n",
       "    <tr>\n",
       "      <td>...</td>\n",
       "      <td>...</td>\n",
       "      <td>...</td>\n",
       "    </tr>\n",
       "    <tr>\n",
       "      <td>247</td>\n",
       "      <td>not sweet</td>\n",
       "      <td>not sweet</td>\n",
       "    </tr>\n",
       "    <tr>\n",
       "      <td>249</td>\n",
       "      <td>not sweet</td>\n",
       "      <td>not sweet</td>\n",
       "    </tr>\n",
       "    <tr>\n",
       "      <td>250</td>\n",
       "      <td>sweet</td>\n",
       "      <td>sweet</td>\n",
       "    </tr>\n",
       "    <tr>\n",
       "      <td>251</td>\n",
       "      <td>sweet</td>\n",
       "      <td>sweet</td>\n",
       "    </tr>\n",
       "    <tr>\n",
       "      <td>253</td>\n",
       "      <td>sweet</td>\n",
       "      <td>sweet</td>\n",
       "    </tr>\n",
       "  </tbody>\n",
       "</table>\n",
       "<p>212 rows × 2 columns</p>\n",
       "</div>"
      ],
      "text/plain": [
       "    ed_flavor_profile ed_flavor_profile2\n",
       "0               sweet              sweet\n",
       "1               sweet              sweet\n",
       "2               sweet              sweet\n",
       "3               sweet              sweet\n",
       "4               sweet              sweet\n",
       "..                ...                ...\n",
       "247         not sweet          not sweet\n",
       "249         not sweet          not sweet\n",
       "250             sweet              sweet\n",
       "251             sweet              sweet\n",
       "253             sweet              sweet\n",
       "\n",
       "[212 rows x 2 columns]"
      ]
     },
     "execution_count": 26,
     "metadata": {},
     "output_type": "execute_result"
    }
   ],
   "source": [
    "df.iloc[:, -2:]"
   ]
  },
  {
   "cell_type": "markdown",
   "id": "7276844b",
   "metadata": {},
   "source": [
    "## 1-5"
   ]
  },
  {
   "cell_type": "code",
   "execution_count": 27,
   "id": "974f52db",
   "metadata": {},
   "outputs": [],
   "source": [
    "df.loc[df['course'] == 'main course', 'ed_course'] = 'main course'\n",
    "df.loc[df['course'] != 'main course', 'ed_course'] = 'not main course'"
   ]
  },
  {
   "cell_type": "code",
   "execution_count": 29,
   "id": "15423d61",
   "metadata": {},
   "outputs": [],
   "source": [
    "df['ed_course2'] = np.where(df['course'] == 'main course',\\\n",
    "                            'main course',\\\n",
    "                            'not main course')"
   ]
  },
  {
   "cell_type": "code",
   "execution_count": 33,
   "id": "7ecda59d",
   "metadata": {},
   "outputs": [
    {
     "data": {
      "text/html": [
       "<div>\n",
       "<style scoped>\n",
       "    .dataframe tbody tr th:only-of-type {\n",
       "        vertical-align: middle;\n",
       "    }\n",
       "\n",
       "    .dataframe tbody tr th {\n",
       "        vertical-align: top;\n",
       "    }\n",
       "\n",
       "    .dataframe thead th {\n",
       "        text-align: right;\n",
       "    }\n",
       "</style>\n",
       "<table border=\"1\" class=\"dataframe\">\n",
       "  <thead>\n",
       "    <tr style=\"text-align: right;\">\n",
       "      <th></th>\n",
       "      <th>ed_course</th>\n",
       "      <th>ed_course2</th>\n",
       "    </tr>\n",
       "  </thead>\n",
       "  <tbody>\n",
       "    <tr>\n",
       "      <td>0</td>\n",
       "      <td>not main course</td>\n",
       "      <td>not main course</td>\n",
       "    </tr>\n",
       "    <tr>\n",
       "      <td>1</td>\n",
       "      <td>not main course</td>\n",
       "      <td>not main course</td>\n",
       "    </tr>\n",
       "    <tr>\n",
       "      <td>2</td>\n",
       "      <td>not main course</td>\n",
       "      <td>not main course</td>\n",
       "    </tr>\n",
       "    <tr>\n",
       "      <td>3</td>\n",
       "      <td>not main course</td>\n",
       "      <td>not main course</td>\n",
       "    </tr>\n",
       "    <tr>\n",
       "      <td>4</td>\n",
       "      <td>not main course</td>\n",
       "      <td>not main course</td>\n",
       "    </tr>\n",
       "    <tr>\n",
       "      <td>...</td>\n",
       "      <td>...</td>\n",
       "      <td>...</td>\n",
       "    </tr>\n",
       "    <tr>\n",
       "      <td>247</td>\n",
       "      <td>main course</td>\n",
       "      <td>main course</td>\n",
       "    </tr>\n",
       "    <tr>\n",
       "      <td>249</td>\n",
       "      <td>main course</td>\n",
       "      <td>main course</td>\n",
       "    </tr>\n",
       "    <tr>\n",
       "      <td>250</td>\n",
       "      <td>not main course</td>\n",
       "      <td>not main course</td>\n",
       "    </tr>\n",
       "    <tr>\n",
       "      <td>251</td>\n",
       "      <td>not main course</td>\n",
       "      <td>not main course</td>\n",
       "    </tr>\n",
       "    <tr>\n",
       "      <td>253</td>\n",
       "      <td>not main course</td>\n",
       "      <td>not main course</td>\n",
       "    </tr>\n",
       "  </tbody>\n",
       "</table>\n",
       "<p>212 rows × 2 columns</p>\n",
       "</div>"
      ],
      "text/plain": [
       "           ed_course       ed_course2\n",
       "0    not main course  not main course\n",
       "1    not main course  not main course\n",
       "2    not main course  not main course\n",
       "3    not main course  not main course\n",
       "4    not main course  not main course\n",
       "..               ...              ...\n",
       "247      main course      main course\n",
       "249      main course      main course\n",
       "250  not main course  not main course\n",
       "251  not main course  not main course\n",
       "253  not main course  not main course\n",
       "\n",
       "[212 rows x 2 columns]"
      ]
     },
     "execution_count": 33,
     "metadata": {},
     "output_type": "execute_result"
    }
   ],
   "source": [
    "df.iloc[:, -2:]"
   ]
  },
  {
   "cell_type": "markdown",
   "id": "2eca4125",
   "metadata": {},
   "source": [
    "## 1-6"
   ]
  },
  {
   "cell_type": "code",
   "execution_count": 37,
   "id": "7118d0b9",
   "metadata": {},
   "outputs": [],
   "source": [
    "df['ingredients_no'] = df['ingredients'].str.split(',').str.len()"
   ]
  },
  {
   "cell_type": "code",
   "execution_count": 39,
   "id": "0e0b6671",
   "metadata": {},
   "outputs": [
    {
     "data": {
      "text/html": [
       "<div>\n",
       "<style scoped>\n",
       "    .dataframe tbody tr th:only-of-type {\n",
       "        vertical-align: middle;\n",
       "    }\n",
       "\n",
       "    .dataframe tbody tr th {\n",
       "        vertical-align: top;\n",
       "    }\n",
       "\n",
       "    .dataframe thead th {\n",
       "        text-align: right;\n",
       "    }\n",
       "</style>\n",
       "<table border=\"1\" class=\"dataframe\">\n",
       "  <thead>\n",
       "    <tr style=\"text-align: right;\">\n",
       "      <th></th>\n",
       "      <th>id</th>\n",
       "      <th>name</th>\n",
       "      <th>ingredients</th>\n",
       "      <th>diet</th>\n",
       "      <th>prep_time</th>\n",
       "      <th>cook_time</th>\n",
       "      <th>flavor_profile</th>\n",
       "      <th>course</th>\n",
       "      <th>region</th>\n",
       "      <th>ed_flavor_profile</th>\n",
       "      <th>ed_flavor_profile2</th>\n",
       "      <th>ed_course</th>\n",
       "      <th>ed_course2</th>\n",
       "      <th>ingredients_no</th>\n",
       "    </tr>\n",
       "  </thead>\n",
       "  <tbody>\n",
       "    <tr>\n",
       "      <td>0</td>\n",
       "      <td>1</td>\n",
       "      <td>Balu shahi</td>\n",
       "      <td>Maida flour, yogurt, oil, sugar</td>\n",
       "      <td>vegetarian</td>\n",
       "      <td>45</td>\n",
       "      <td>25</td>\n",
       "      <td>sweet</td>\n",
       "      <td>dessert</td>\n",
       "      <td>East</td>\n",
       "      <td>sweet</td>\n",
       "      <td>sweet</td>\n",
       "      <td>not main course</td>\n",
       "      <td>not main course</td>\n",
       "      <td>4</td>\n",
       "    </tr>\n",
       "  </tbody>\n",
       "</table>\n",
       "</div>"
      ],
      "text/plain": [
       "   id        name                      ingredients        diet  prep_time  \\\n",
       "0   1  Balu shahi  Maida flour, yogurt, oil, sugar  vegetarian         45   \n",
       "\n",
       "   cook_time flavor_profile   course region ed_flavor_profile  \\\n",
       "0         25          sweet  dessert   East             sweet   \n",
       "\n",
       "  ed_flavor_profile2        ed_course       ed_course2  ingredients_no  \n",
       "0              sweet  not main course  not main course               4  "
      ]
     },
     "execution_count": 39,
     "metadata": {},
     "output_type": "execute_result"
    }
   ],
   "source": [
    "df.head(1)"
   ]
  },
  {
   "cell_type": "code",
   "execution_count": 40,
   "id": "0ab15058",
   "metadata": {},
   "outputs": [
    {
     "data": {
      "text/plain": [
       "(212, 14)"
      ]
     },
     "execution_count": 40,
     "metadata": {},
     "output_type": "execute_result"
    }
   ],
   "source": [
    "df.shape"
   ]
  },
  {
   "cell_type": "code",
   "execution_count": null,
   "id": "eeac4482",
   "metadata": {},
   "outputs": [],
   "source": []
  },
  {
   "cell_type": "code",
   "execution_count": null,
   "id": "5f2469b6",
   "metadata": {},
   "outputs": [],
   "source": []
  },
  {
   "cell_type": "code",
   "execution_count": null,
   "id": "cee5d817",
   "metadata": {},
   "outputs": [],
   "source": []
  },
  {
   "cell_type": "code",
   "execution_count": null,
   "id": "031a9dee",
   "metadata": {},
   "outputs": [],
   "source": []
  },
  {
   "cell_type": "code",
   "execution_count": null,
   "id": "e8db8646",
   "metadata": {},
   "outputs": [],
   "source": []
  },
  {
   "cell_type": "code",
   "execution_count": null,
   "id": "703f22f3",
   "metadata": {},
   "outputs": [],
   "source": []
  }
 ],
 "metadata": {
  "kernelspec": {
   "display_name": "Python 3 (ipykernel)",
   "language": "python",
   "name": "python3"
  },
  "language_info": {
   "codemirror_mode": {
    "name": "ipython",
    "version": 3
   },
   "file_extension": ".py",
   "mimetype": "text/x-python",
   "name": "python",
   "nbconvert_exporter": "python",
   "pygments_lexer": "ipython3",
   "version": "3.7.4"
  }
 },
 "nbformat": 4,
 "nbformat_minor": 5
}
